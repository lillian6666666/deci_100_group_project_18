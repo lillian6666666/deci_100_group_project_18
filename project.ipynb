{
 "cells": [
  {
   "cell_type": "code",
   "execution_count": 1,
   "id": "910fa5ac-4358-4eaf-9315-c6c8268c88bc",
   "metadata": {},
   "outputs": [
    {
     "name": "stderr",
     "output_type": "stream",
     "text": [
      "── \u001b[1mAttaching core tidyverse packages\u001b[22m ──────────────────────── tidyverse 2.0.0 ──\n",
      "\u001b[32m✔\u001b[39m \u001b[34mdplyr    \u001b[39m 1.1.3     \u001b[32m✔\u001b[39m \u001b[34mreadr    \u001b[39m 2.1.4\n",
      "\u001b[32m✔\u001b[39m \u001b[34mforcats  \u001b[39m 1.0.0     \u001b[32m✔\u001b[39m \u001b[34mstringr  \u001b[39m 1.5.0\n",
      "\u001b[32m✔\u001b[39m \u001b[34mggplot2  \u001b[39m 3.4.4     \u001b[32m✔\u001b[39m \u001b[34mtibble   \u001b[39m 3.2.1\n",
      "\u001b[32m✔\u001b[39m \u001b[34mlubridate\u001b[39m 1.9.3     \u001b[32m✔\u001b[39m \u001b[34mtidyr    \u001b[39m 1.3.0\n",
      "\u001b[32m✔\u001b[39m \u001b[34mpurrr    \u001b[39m 1.0.2     \n",
      "── \u001b[1mConflicts\u001b[22m ────────────────────────────────────────── tidyverse_conflicts() ──\n",
      "\u001b[31m✖\u001b[39m \u001b[34mdplyr\u001b[39m::\u001b[32mfilter()\u001b[39m masks \u001b[34mstats\u001b[39m::filter()\n",
      "\u001b[31m✖\u001b[39m \u001b[34mdplyr\u001b[39m::\u001b[32mlag()\u001b[39m    masks \u001b[34mstats\u001b[39m::lag()\n",
      "\u001b[36mℹ\u001b[39m Use the conflicted package (\u001b[3m\u001b[34m<http://conflicted.r-lib.org/>\u001b[39m\u001b[23m) to force all conflicts to become errors\n"
     ]
    }
   ],
   "source": [
    "library(tidyverse)\n"
   ]
  },
  {
   "cell_type": "code",
   "execution_count": 1,
   "id": "a0d4b0f8-69c1-4ac1-b755-b0e9c4a55c5f",
   "metadata": {},
   "outputs": [
    {
     "data": {
      "text/html": [
       "1"
      ],
      "text/latex": [
       "1"
      ],
      "text/markdown": [
       "1"
      ],
      "text/plain": [
       "[1] 1"
      ]
     },
     "metadata": {},
     "output_type": "display_data"
    }
   ],
   "source": [
    "\n"
   ]
  },
  {
   "cell_type": "markdown",
   "id": "1628877b-2883-4826-b22e-ed3b55b75aa9",
   "metadata": {},
   "source": [
    "# Expected outcomes and significance:\n",
    "\n",
    "### What do you expect to find?\n",
    "We expect to find a relationship between the height of a left-handed tennis player and their ranking. From examining some prelimary data and then forming a training set, we can make a scatter plot that relates the ranking against the height of left-handed players. After seeing whether there is a relationship or not, we can then separate the player rankings into several classes (excellent, good, average, bad) and use this training set to predict what class of ranking an unknown left-handed tennis player would have based on his height.\n",
    "\n",
    "### What impact could such findings have?\n",
    "The impact of these findings can provide insight on whether tennis is a sport that depends on height or not. Often, height is an essential factor a participant needs to excel in a sport. From this data, we want to see if this concept applies to tennis amongst left handed players and see if height is a predictor of a player's ranking. As a result, these findings can help tennis players see if they have an advantage in a professional career of tennis based on whether height is a predictor or not.\n",
    "\n",
    "### What future questions could this lead to?\n",
    "- Can we use height to predict rankings of right-handed players?\n",
    "- If height is a predictor, can age also affect a player's ranking?\n",
    "- Depending on the relationship seen, will these results affect a new player's interest in pursueing a professional career?"
   ]
  },
  {
   "cell_type": "code",
   "execution_count": null,
   "id": "dc4211e5-8c7d-4cb8-8543-d4395647039d",
   "metadata": {},
   "outputs": [],
   "source": []
  }
 ],
 "metadata": {
  "kernelspec": {
   "display_name": "R",
   "language": "R",
   "name": "ir"
  },
  "language_info": {
   "codemirror_mode": "r",
   "file_extension": ".r",
   "mimetype": "text/x-r-source",
   "name": "R",
   "pygments_lexer": "r",
   "version": "4.3.1"
  }
 },
 "nbformat": 4,
 "nbformat_minor": 5
}
